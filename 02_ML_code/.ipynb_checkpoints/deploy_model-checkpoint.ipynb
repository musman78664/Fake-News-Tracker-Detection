{
 "cells": [
  {
   "cell_type": "code",
   "execution_count": 1,
   "metadata": {},
   "outputs": [],
   "source": [
    "import pandas\n",
    "from sklearn import model_selection\n",
    "from sklearn.feature_extraction.text import CountVectorizer\n",
    "from sklearn.feature_extraction.text import TfidfVectorizer\n",
    "from sklearn.svm import SVC\n",
    "import joblib\n",
    "import sklearn"
   ]
  },
  {
   "cell_type": "code",
   "execution_count": 2,
   "metadata": {},
   "outputs": [
    {
     "data": {
      "text/plain": [
       "'0.13.2'"
      ]
     },
     "execution_count": 2,
     "metadata": {},
     "output_type": "execute_result"
    }
   ],
   "source": [
    "joblib. __version__ "
   ]
  },
  {
   "cell_type": "code",
   "execution_count": 9,
   "metadata": {},
   "outputs": [
    {
     "data": {
      "text/plain": [
       "Pipeline(steps=[('tfidfvectorizer',\n",
       "                 TfidfVectorizer(max_df=0.7, stop_words='english')),\n",
       "                ('svc', SVC(gamma=0.0001, kernel='linear', probability=True))])"
      ]
     },
     "execution_count": 9,
     "metadata": {},
     "output_type": "execute_result"
    }
   ],
   "source": [
    "# Load model from disk\n",
    "loaded_pipeline = joblib.load('../05_Models/fake_title_SVM_pipeline.sav')\n",
    "loaded_pipeline"
   ]
  },
  {
   "cell_type": "code",
   "execution_count": 17,
   "metadata": {},
   "outputs": [],
   "source": [
    "def headline_predict():\n",
    "    '''\n",
    "    A function to handle predictions. \n",
    "    A user-entered headline will be run through the ML pipeline. \n",
    "    The function will then print a statement about whether the headline is true or false.\n",
    "    This is what will go into Flask for the headline-prediction page\n",
    "    '''\n",
    "    result_params = []\n",
    "    text = str(input('Copy/paste a real or fake headline: '))\n",
    "    result = loaded_pipeline.predict([text])\n",
    "    result_params.append(str(result[0]))\n",
    "    if result_params[0] == 'True':\n",
    "        result_params.append('green')\n",
    "    else:\n",
    "        result_params.append('red')\n",
    "\n",
    "\n",
    "    \n",
    "    \n",
    "    print(f'HEADLINE: {text}')\n",
    "    print('-------------------------------')\n",
    "    print(f'PREDICTION: This article is probably {result[0]}!')\n",
    "    print(result)\n",
    "    print(loaded_pipeline.predict_proba([text])[0][1])"
   ]
  },
  {
   "cell_type": "code",
   "execution_count": 18,
   "metadata": {},
   "outputs": [
    {
     "name": "stdout",
     "output_type": "stream",
     "text": [
      "Copy/paste a real or fake headline: Supreme Court destroys Trump's attempt to halt migration\n",
      "HEADLINE: Supreme Court destroys Trump's attempt to halt migration\n",
      "-------------------------------\n",
      "PREDICTION: This article is probably True!\n",
      "[ True]\n",
      "0.8340360788935102\n"
     ]
    }
   ],
   "source": [
    "# WRONG\n",
    "# Supreme Court destroys Trump's attempt to halt migration\n",
    "headline_predict()"
   ]
  },
  {
   "cell_type": "code",
   "execution_count": 61,
   "metadata": {},
   "outputs": [
    {
     "name": "stdout",
     "output_type": "stream",
     "text": [
      "Enter one real or fake headline: Trump taxes: Supreme Court says New York prosecutors can see records\n",
      "This article is probably True!\n"
     ]
    }
   ],
   "source": [
    "# RIGHT\n",
    "# Trump taxes: Supreme Court says New York prosecutors can see records\n",
    "headline_predict()"
   ]
  },
  {
   "cell_type": "code",
   "execution_count": 62,
   "metadata": {},
   "outputs": [
    {
     "name": "stdout",
     "output_type": "stream",
     "text": [
      "Enter one real or fake headline: Watch Trump loose it on his own crowd!\n",
      "This article is probably False!\n"
     ]
    }
   ],
   "source": [
    "# RIGHT\n",
    "Watch Trump loose it on his own crowd!\n",
    "headline_predict()"
   ]
  },
  {
   "cell_type": "code",
   "execution_count": 63,
   "metadata": {},
   "outputs": [
    {
     "name": "stdout",
     "output_type": "stream",
     "text": [
      "Enter one real or fake headline: Crooked Trump vetos bill that would allow better healthcare \n",
      "This article is probably True!\n"
     ]
    }
   ],
   "source": [
    "# WRONG\n",
    "# Crooked Trump vetos bill that would allow better healthcare \n",
    "headline_predict()"
   ]
  },
  {
   "cell_type": "code",
   "execution_count": 64,
   "metadata": {},
   "outputs": [
    {
     "name": "stdout",
     "output_type": "stream",
     "text": [
      "Enter one real or fake headline: click here now\n",
      "This article is probably True!\n"
     ]
    }
   ],
   "source": [
    "# WRONG(ish)\n",
    "# click here now\n",
    "headline_predict()"
   ]
  },
  {
   "cell_type": "code",
   "execution_count": 65,
   "metadata": {},
   "outputs": [
    {
     "name": "stdout",
     "output_type": "stream",
     "text": [
      "Enter one real or fake headline: you won't believe what Trump said now\n",
      "This article is probably False!\n"
     ]
    }
   ],
   "source": [
    "# RIGHT\n",
    "# you won't believe what Trump said now\n",
    "headline_predict()"
   ]
  },
  {
   "cell_type": "code",
   "execution_count": 67,
   "metadata": {},
   "outputs": [
    {
     "name": "stdout",
     "output_type": "stream",
     "text": [
      "Enter one real or fake headline: Great Video! Chinese Invasion Of The West\n",
      "This article is probably False!\n"
     ]
    }
   ],
   "source": [
    "# RIGHT\n",
    "# Great Video! Chinese Invasion Of The West\n",
    "headline_predict()"
   ]
  },
  {
   "cell_type": "code",
   "execution_count": 68,
   "metadata": {},
   "outputs": [
    {
     "name": "stdout",
     "output_type": "stream",
     "text": [
      "Enter one real or fake headline: shocking! Trump slams Biden for lies\n",
      "This article is probably False!\n"
     ]
    }
   ],
   "source": [
    "# RIGHT\n",
    "headline_predict()"
   ]
  },
  {
   "cell_type": "code",
   "execution_count": 69,
   "metadata": {},
   "outputs": [
    {
     "name": "stdout",
     "output_type": "stream",
     "text": [
      "Enter one real or fake headline: Trump slams Biden for lies\n",
      "This article is probably False!\n"
     ]
    }
   ],
   "source": [
    "# RIGHT\n",
    "headline_predict()"
   ]
  },
  {
   "cell_type": "code",
   "execution_count": null,
   "metadata": {},
   "outputs": [],
   "source": []
  }
 ],
 "metadata": {
  "kernelspec": {
   "display_name": "Python 3",
   "language": "python",
   "name": "python3"
  },
  "language_info": {
   "codemirror_mode": {
    "name": "ipython",
    "version": 3
   },
   "file_extension": ".py",
   "mimetype": "text/x-python",
   "name": "python",
   "nbconvert_exporter": "python",
   "pygments_lexer": "ipython3",
   "version": "3.7.4"
  }
 },
 "nbformat": 4,
 "nbformat_minor": 2
}
